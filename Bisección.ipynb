{
  "nbformat": 4,
  "nbformat_minor": 0,
  "metadata": {
    "colab": {
      "name": "Untitled5.ipynb",
      "provenance": [],
      "authorship_tag": "ABX9TyPHUdXT1sB4rCDyhSZxj4Po",
      "include_colab_link": true
    },
    "kernelspec": {
      "name": "python3",
      "display_name": "Python 3"
    }
  },
  "cells": [
    {
      "cell_type": "markdown",
      "metadata": {
        "id": "view-in-github",
        "colab_type": "text"
      },
      "source": [
        "<a href=\"https://colab.research.google.com/github/richard1311/Metodo-Numericos/blob/master/Bisecci%C3%B3n.ipynb\" target=\"_parent\"><img src=\"https://colab.research.google.com/assets/colab-badge.svg\" alt=\"Open In Colab\"/></a>"
      ]
    },
    {
      "cell_type": "code",
      "metadata": {
        "id": "khCN-a2EK2sf",
        "colab_type": "code",
        "colab": {
          "base_uri": "https://localhost:8080/",
          "height": 255
        },
        "outputId": "016e5cdd-984d-4979-ecaa-e3efe616e3b6"
      },
      "source": [
        "import numpy as np\n",
        "\n",
        "# INGRESO\n",
        "fx = lambda x: x**3 + 4*x**2 - 10 \n",
        "a = 1\n",
        "b = 3\n",
        "tolera = 0.001\n",
        "\n",
        "# PROCEDIMIENTO\n",
        "tabla = []\n",
        "tramo = b-a\n",
        "\n",
        "fa = fx(a)\n",
        "fb = fx(b)\n",
        "i = 1\n",
        "while (tramo>tolera):\n",
        "    c = (a+b)/2\n",
        "    fc = fx(c)\n",
        "    tabla.append([i,a,c,b,fa,fc,fb,tramo])\n",
        "    i = i+1\n",
        "                 \n",
        "    cambia = np.sign(fa)*np.sign(fc)\n",
        "    if (cambia<0):\n",
        "        b = c\n",
        "        fb = fc\n",
        "    else:\n",
        "        a=c\n",
        "        fa = fc\n",
        "    tramo = b-a\n",
        "c = (a+b)/2\n",
        "fc = fx(c)\n",
        "tabla.append([i,a,c,b,fa,fc,fb,tramo])\n",
        "tabla = np.array(tabla)\n",
        "\n",
        "raiz = c\n",
        "\n",
        "# SALIDA\n",
        "np.set_printoptions(precision = 4)\n",
        "print('[ i, a, c, b, f(a), f(c), f(b), tramo]')\n",
        "# print(tabla)\n",
        "\n",
        "# Tabla con formato\n",
        "n=len(tabla)\n",
        "for i in range(0,n,1):\n",
        "    unafila = tabla[i]\n",
        "    formato = '{:.0f}'+' '+(len(unafila)-1)*'{:.3f} '\n",
        "    unafila = formato.format(*unafila)\n",
        "    print(unafila)\n",
        "    \n",
        "print('raiz: ',raiz)"
      ],
      "execution_count": 3,
      "outputs": [
        {
          "output_type": "stream",
          "text": [
            "[ i, a, c, b, f(a), f(c), f(b), tramo]\n",
            "1 1.000 2.000 3.000 -5.000 14.000 53.000 2.000 \n",
            "2 1.000 1.500 2.000 -5.000 2.375 14.000 1.000 \n",
            "3 1.000 1.250 1.500 -5.000 -1.797 2.375 0.500 \n",
            "4 1.250 1.375 1.500 -1.797 0.162 2.375 0.250 \n",
            "5 1.250 1.312 1.375 -1.797 -0.848 0.162 0.125 \n",
            "6 1.312 1.344 1.375 -0.848 -0.351 0.162 0.062 \n",
            "7 1.344 1.359 1.375 -0.351 -0.096 0.162 0.031 \n",
            "8 1.359 1.367 1.375 -0.096 0.032 0.162 0.016 \n",
            "9 1.359 1.363 1.367 -0.096 -0.032 0.032 0.008 \n",
            "10 1.363 1.365 1.367 -0.032 0.000 0.032 0.004 \n",
            "11 1.363 1.364 1.365 -0.032 -0.016 0.000 0.002 \n",
            "12 1.364 1.365 1.365 -0.016 -0.008 0.000 0.001 \n",
            "raiz:  1.36474609375\n"
          ],
          "name": "stdout"
        }
      ]
    }
  ]
}