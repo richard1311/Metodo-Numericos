{
  "nbformat": 4,
  "nbformat_minor": 0,
  "metadata": {
    "colab": {
      "name": "Untitled1.ipynb",
      "provenance": [],
      "authorship_tag": "ABX9TyOjX2yPuJmEv2bvhQyjvEug",
      "include_colab_link": true
    },
    "kernelspec": {
      "name": "python3",
      "display_name": "Python 3"
    }
  },
  "cells": [
    {
      "cell_type": "markdown",
      "metadata": {
        "id": "view-in-github",
        "colab_type": "text"
      },
      "source": [
        "<a href=\"https://colab.research.google.com/github/richard1311/Metodo-Numericos/blob/master/NR.ipynb\" target=\"_parent\"><img src=\"https://colab.research.google.com/assets/colab-badge.svg\" alt=\"Open In Colab\"/></a>"
      ]
    },
    {
      "cell_type": "code",
      "metadata": {
        "id": "s73SjswaLipE",
        "colab_type": "code",
        "colab": {}
      },
      "source": [
        "import sympy as sy\n",
        "\n",
        "#x  simbolo\n",
        "x=sy.symbols('x')\n",
        "\n",
        "#funcion \n",
        "funcion=sy.exp(-x)-x\n",
        "\n",
        "#primera derivada de la funcion\n",
        "derivada=sy.diff(funcion,x)\n",
        "\n",
        "#varibles\n",
        "#xo valor inicial para la convergencia\n",
        "x_0=0\n",
        "xr=x_0\n",
        "\n",
        "#error aproximado relatico porcentual\n",
        "ea=100/100\n",
        "\n",
        "#error estimado\n",
        "es=0.001/100\n",
        "contador=-1\n",
        "print(\"i\\txi\\tea%\")\n",
        "while ea>es:\n",
        "    xra=xr\n",
        "    contador+=1\n",
        "    newton_rhapson=x-(funcion/derivada)\n",
        "    #se subtituye x por xr a continuandicon se evalua\n",
        "    xr=newton_rhapson.evalf(subs={x: xr})\n",
        "    #error aproximado relativo porcentual\n",
        "    ea=sy.Abs(((xr-xra)/xr)*100)\n",
        "    #resultado\n",
        "    print(contador,\"\\t\",xra,\"\\t\",ea)"
      ],
      "execution_count": 0,
      "outputs": []
    }
  ]
}