{
  "nbformat": 4,
  "nbformat_minor": 0,
  "metadata": {
    "colab": {
      "name": "Untitled4.ipynb",
      "provenance": [],
      "authorship_tag": "ABX9TyOUMPDioOAp8h22+ZW9agaN",
      "include_colab_link": true
    },
    "kernelspec": {
      "name": "python3",
      "display_name": "Python 3"
    }
  },
  "cells": [
    {
      "cell_type": "markdown",
      "metadata": {
        "id": "view-in-github",
        "colab_type": "text"
      },
      "source": [
        "<a href=\"https://colab.research.google.com/github/richard1311/Metodo-Numericos/blob/master/Secante.ipynb\" target=\"_parent\"><img src=\"https://colab.research.google.com/assets/colab-badge.svg\" alt=\"Open In Colab\"/></a>"
      ]
    },
    {
      "cell_type": "code",
      "metadata": {
        "id": "T1Om71CNKGa9",
        "colab_type": "code",
        "colab": {}
      },
      "source": [
        "import math\n",
        "\n",
        "\n",
        "def secant(xk_1, xk, tol, f): \n",
        "\n",
        "    _iter = 1\n",
        "\n",
        "    # Repetir hasta que x el error sea mas pequeño que la tolerancia\n",
        "    while (abs(xk - xk_1) / abs(xk)) > tol:\n",
        "        # Nuevo valor de x\n",
        "        xTemp = xk - (xk - xk_1) / (f(xk) - f(xk_1)) * f(xk)\n",
        "        # Actualizar el valor anterior y el valor actual\n",
        "        xk_1 = xk\n",
        "        xk = xTemp\n",
        "        # Actualizar las iteraciones\n",
        "        _iter += 1\n",
        "\n",
        "    return xk, _iter\n",
        "\n",
        "\n",
        "# Prueba\n",
        "if __name__ == '__main__':\n",
        "    # Valores iniciales\n",
        "    x0 = 0\n",
        "    x1 = 1\n",
        "    \n",
        "    # Funcion a la cual se le aplica el metodo\n",
        "    func = lambda x: math.e**(-x**2) - x\n",
        "    # Llamado de la funcion\n",
        "    xk, _iter = secant(x0, x1, tol, func)\n",
        "    print('xk = {}\\nIteraciones = {}'.format(xk, _iter))"
      ],
      "execution_count": 0,
      "outputs": []
    }
  ]
}