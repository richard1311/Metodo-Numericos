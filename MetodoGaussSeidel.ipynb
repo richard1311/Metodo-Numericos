{
  "nbformat": 4,
  "nbformat_minor": 0,
  "metadata": {
    "colab": {
      "name": "Untitled1.ipynb",
      "provenance": [],
      "authorship_tag": "ABX9TyMp35/roBxzZnybKBgB+Rt9",
      "include_colab_link": true
    },
    "kernelspec": {
      "name": "python3",
      "display_name": "Python 3"
    }
  },
  "cells": [
    {
      "cell_type": "markdown",
      "metadata": {
        "id": "view-in-github",
        "colab_type": "text"
      },
      "source": [
        "<a href=\"https://colab.research.google.com/github/richard1311/Metodo-Numericos/blob/master/MetodoGaussSeidel.ipynb\" target=\"_parent\"><img src=\"https://colab.research.google.com/assets/colab-badge.svg\" alt=\"Open In Colab\"/></a>"
      ]
    },
    {
      "cell_type": "code",
      "metadata": {
        "id": "1umJFVoBDjfd",
        "colab_type": "code",
        "colab": {
          "base_uri": "https://localhost:8080/",
          "height": 104
        },
        "outputId": "9259a5d2-718b-4d70-c47a-fec795487586"
      },
      "source": [
        "import numpy\n",
        "m=int(input('Valor de m:'))  \n",
        "n=int(input('Valor de n:'))\n",
        "matrix = numpy.zeros((m,n))\n",
        "x=numpy.zeros((m))\n",
        "\n",
        "vector = numpy.zeros((n))\n",
        "comp=numpy.zeros((m))\n",
        "error=[]\n",
        "\n",
        "\n",
        "print ('Método de Gauss-Seidel')\n",
        "print ('Introduce la matriz de coeficientes y el vector solución')\n",
        "for r in range(0,m):\n",
        "    for c in range(0,n):\n",
        "        matrix[(r),(c)]=float(input(\"Elemento a[\"+str(r+1)+str(c+1)+\"] \"))\n",
        "    vector[(r)]=float(input('b['+str(r+1)+']: '))\n",
        "print (\"Método de Gauss-Seidel\")\n",
        "tol=float(input(\" ¿Cual es la tolerancia que desea? \"))\n",
        "itera=int(input(\"¿Cuantas ineracciones desea ?\"))\n",
        "\n",
        "\n",
        "k=0\n",
        "while k<itera:\n",
        "    suma=0\n",
        "    k=k+1\n",
        "    for r in range(0,m):\n",
        "        suma=0\n",
        "        for c in range(0,n):\n",
        "            if (c != r):\n",
        "                suma=suma+matrix[r,c]*x[c]               \n",
        "        x[r]=(vector[r]-suma)/matrix[r,r]\n",
        "print(\"x[\"+str(r)+\"]: \"+str(x[r]))\n",
        "del error[:]\n",
        "\n",
        "for r in range(0,m):\n",
        "        suma=0\n",
        "        for c in range(0,n):\n",
        "            suma=suma+matrix[r,c]*x[c]  \n",
        "            comp[r]=suma    \n",
        "            dif=abs(comp[r]-vector[r])\n",
        "            error.append(dif) \n",
        "            print(\"Error en x[\",r,\"]= \", error[r])   \n",
        "        print(\"Interaciones: \",k)    \n",
        "        if all(i<=tol for i in error) == True:\n",
        "          break\n",
        "\n",
        "print(\"Adios\")\n",
        "    "
      ],
      "execution_count": 0,
      "outputs": [
        {
          "output_type": "stream",
          "text": [
            "Valor de m:3\n",
            "Valor de n:3\n",
            "Método de Gauss-Seidel\n",
            "Introduce la matriz de coeficientes y el vector solución\n"
          ],
          "name": "stdout"
        }
      ]
    }
  ]
}