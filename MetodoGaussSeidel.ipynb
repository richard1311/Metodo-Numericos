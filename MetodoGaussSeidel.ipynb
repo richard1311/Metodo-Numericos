{
  "nbformat": 4,
  "nbformat_minor": 0,
  "metadata": {
    "colab": {
      "name": "Untitled1.ipynb",
      "provenance": [],
      "authorship_tag": "ABX9TyMtR+0vUkc+pT/XGGfRcblq",
      "include_colab_link": true
    },
    "kernelspec": {
      "name": "python3",
      "display_name": "Python 3"
    }
  },
  "cells": [
    {
      "cell_type": "markdown",
      "metadata": {
        "id": "view-in-github",
        "colab_type": "text"
      },
      "source": [
        "<a href=\"https://colab.research.google.com/github/richard1311/Metodo-Numericos/blob/master/MetodoGaussSeidel.ipynb\" target=\"_parent\"><img src=\"https://colab.research.google.com/assets/colab-badge.svg\" alt=\"Open In Colab\"/></a>"
      ]
    },
    {
      "cell_type": "code",
      "metadata": {
        "id": "1umJFVoBDjfd",
        "colab_type": "code",
        "outputId": "81dfce50-fa32-4dd4-b70a-2e86f8dbc367",
        "colab": {
          "base_uri": "https://localhost:8080/",
          "height": 765
        }
      },
      "source": [
        "import numpy\n",
        "m=int(input(' Numero de Filas:'))  \n",
        "n=int(input(' Numero de Columnas:'))\n",
        "matrix = numpy.zeros((m,n))\n",
        "x=numpy.zeros((m))\n",
        "\n",
        "vector = numpy.zeros((n))\n",
        "comp=numpy.zeros((m))\n",
        "error=[]\n",
        "\n",
        "\n",
        "print ('Método de Gauss-Seidel')\n",
        "print ('Introduce la matriz de coeficientes y el vector solución')\n",
        "for r in range(0,m):\n",
        "    for c in range(0,n):\n",
        "        matrix[(r),(c)]=float(input(\"Elemento a[\"+str(r+1)+str(c+1)+\"] \"))\n",
        "    vector[(r)]=float(input('b['+str(r+1)+']: '))\n",
        "print (\"Método de Gauss-Seidel\")\n",
        "itera=int(input(\" Numero de interacciones que desea: \"))\n",
        "tol=float(input(\" ¿Cual es el valor porcentual maximo? \"))\n",
        "\n",
        "k=0\n",
        "while k < itera:\n",
        "    suma=0\n",
        "    k=k+1\n",
        "    for r in range(0,m):\n",
        "        suma=0\n",
        "        for c in range(0,n):\n",
        "            if (c != r):\n",
        "                suma=suma+matrix[r,c]*x[c]               \n",
        "        x[r]=(vector[r]-suma)/matrix[r,r]\n",
        "        print(\"x[\"+str(r)+\"]: \"+str(x[r]))\n",
        "        error[:]   \n",
        "\n",
        "for r in range(0,m):\n",
        "        suma=0\n",
        "        for c in range(0,n):\n",
        "            suma=suma+matrix[r,c]*x[c]\n",
        "            comp[r]=suma\n",
        "            dif=abs(comp[r]-vector[r])\n",
        "            error.append(dif)\n",
        "            print(\"Error en x[\",r,\"]=\",error[r] )\n",
        "        print(\"Interaciones: \" ,k)\n",
        "        if all( i<=tol for i in error) == True:\n",
        "         break\n",
        "\n",
        "print(\" HASTA LUEGO :) \")\n",
        "    "
      ],
      "execution_count": 6,
      "outputs": [
        {
          "output_type": "stream",
          "text": [
            " Numero de Filas:3\n",
            " Numero de Columnas:3\n",
            "Método de Gauss-Seidel\n",
            "Introduce la matriz de coeficientes y el vector solución\n",
            "Elemento a[11] 9\n",
            "Elemento a[12] 2\n",
            "Elemento a[13] -1\n",
            "b[1]: -2\n",
            "Elemento a[21] 7\n",
            "Elemento a[22] 8\n",
            "Elemento a[23] 5\n",
            "b[2]: 3\n",
            "Elemento a[31] 3\n",
            "Elemento a[32] 4\n",
            "Elemento a[33] -10\n",
            "b[3]: 6\n",
            "Método de Gauss-Seidel\n",
            " Numero de interacciones que desea: 4\n",
            " ¿Cual es el valor porcentual maximo? 1\n",
            "x[0]: -0.2222222222222222\n",
            "x[1]: 0.5694444444444444\n",
            "x[2]: -0.43888888888888894\n",
            "x[0]: -0.3975308641975308\n",
            "x[1]: 0.997145061728395\n",
            "x[2]: -0.3204012345679012\n",
            "x[0]: -0.4794101508916323\n",
            "x[1]: 0.9947346536351165\n",
            "x[2]: -0.3459291838134431\n",
            "x[0]: -0.4817109434537418\n",
            "x[1]: 1.012702815405426\n",
            "x[2]: -0.3394321568739521\n",
            "Error en x[ 0 ]= 2.3353984910836765\n",
            "Error en x[ 0 ]= 2.3353984910836765\n",
            "Error en x[ 0 ]= 2.3353984910836765\n",
            "Interaciones:  4\n",
            "Error en x[ 1 ]= 0.30999286027282436\n",
            "Error en x[ 1 ]= 0.30999286027282436\n",
            "Error en x[ 1 ]= 0.30999286027282436\n",
            "Interaciones:  4\n",
            "Error en x[ 2 ]= 0.02943929660112765\n",
            "Error en x[ 2 ]= 0.02943929660112765\n",
            "Error en x[ 2 ]= 0.02943929660112765\n",
            "Interaciones:  4\n",
            " HASTA LUEGO :) \n"
          ],
          "name": "stdout"
        }
      ]
    }
  ]
}